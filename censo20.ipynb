{
 "cells": [
  {
   "cell_type": "markdown",
   "metadata": {},
   "source": [
    "# Criando dataframes a partir de imagens dos dados do Recenseamento de 1920\n",
    "\n",
    "Para essa apresentação selecionei apenas uma tabela do censo. A tabela foi tirada da página 27 da segunda parte do Volume V que trata dos salários.\n",
    "\n",
    "O arquivo está salvo no diretório com o nome 'p27.pdf'. \n",
    "\n",
    "Primeiro vamos importar os pacotes necessários:"
   ]
  },
  {
   "cell_type": "code",
   "execution_count": 1,
   "metadata": {},
   "outputs": [],
   "source": [
    "#Ative essa célula caso não tenha o Wand e o pytesseract instalado\n",
    "\n",
    "# !pip install Wand\n",
    "# !pip install pytesseract"
   ]
  },
  {
   "cell_type": "code",
   "execution_count": 2,
   "metadata": {},
   "outputs": [],
   "source": [
    "from wand.image import Image as Img #esse pacote transforma o pdf em um arquivo de imagem\n",
    "from PIL import Image               #usamos esse pacote para abrir o arquivo de imagem\n",
    "import pytesseract                  #a função desse pacote é transformar o arquivo de imagem em string\n",
    "import pandas as pd                 #biblioteca do Python para gerenciar DataFrames\n",
    "import re                           #será necessário para limpar a string gerada\n",
    "import csv                          #útil para a leitura do arquivo em csv"
   ]
  },
  {
   "cell_type": "markdown",
   "metadata": {},
   "source": [
    "O primeiro passo consiste em transformar o arquivo 'p27.pdf' em imagem. Note que o nome do arquivo de imagem gerado é 'image27.jpg'."
   ]
  },
  {
   "cell_type": "code",
   "execution_count": 3,
   "metadata": {},
   "outputs": [],
   "source": [
    "with Img(filename='p27.pdf', resolution=400) as img:\n",
    "    img.compression_quality = 99\n",
    "    img.save(filename='image27.jpg')"
   ]
  },
  {
   "cell_type": "markdown",
   "metadata": {},
   "source": [
    "Agora transformamos a imagem em uma string e printamos o resultado. Veja que conseguimos abrir o arquivo, mas ele não está formatado."
   ]
  },
  {
   "cell_type": "code",
   "execution_count": 4,
   "metadata": {
    "scrolled": true
   },
   "outputs": [
    {
     "name": "stdout",
     "output_type": "stream",
     "text": [
      "XX DIRECTORIA GERAL DE ES'I‘ATISTICA\n",
      "Comparaqiio do salario médin dos operatios jomaleims, segundo\n",
      "NUBEERG DE CASGS CONSEDERADGS\n",
      "()PERARIOS JORNALEIROS\n",
      "PROFISSEwEs ABUL’HIS ' “5393135\n",
      "TOTAL M— _\n",
      "“omens l Mulberes ' Homens Mulheres\n",
      "1920 1928 1920 l 1928 1920 102-8 ‘ 1920 i 1928 19:20 19:8\n",
      "Fiagia e Tecidas I I i\n",
      "Acabador ...................... 613 364 385 303 208 44 J 10 '3 10 1‘1:\n",
      "Batedor ........................ 171 145 171 14a: 1 ~— __ _ 1 _. __\n",
      "Branqueador ................... 50 5’9 45 7G *- -— 5 3 -—- } ~—\n",
      "Cardador ...................... 285 173 241 155: 39 14 6 6 —— ~—\n",
      "Carreteleiro .................... E 855 S39 78 74. 730 437 37 9 18 19\n",
      "EngommadOr. . ................ 132 118 126 112? _ -— é — —- -—\n",
      "Fiandeiro ........ ‘ .............. 2.187 1.872 257 220 924 604 476 585 l 530 463 ‘\n",
      "Massaroqueim ................. 435 490 279 291 148 199 6 — 2 -—\n",
      "Meadeim. ..... . ..... , ........ 2m 78 11 1 :2 573? 51 — F - 96 --\n",
      "Remettedor .................... 331 182 131 119 21 — 166 63 13 m\n",
      "Tecelﬁo ........................ 64 632 2 .225 3 . 748 . 18% 2 . 60?. 989 90 7.4 192 28\n",
      "Tintureiro ..................... 553 21? * 518 31?. 1 1 <1 — z —- m\n",
      "Urdidor ........................ 274 152 143 62 105 73 26 12 l —, .—\n",
      "Madeiras s\n",
      "Serrador ....................... 133 i 85 152 85 — — —— — -— -\n",
      "Torneim em madeira ......... 39 i 24 39 24 | ~— — — — ‘ —— m\n",
      "Metallurgia I\n",
      "Ajustador ................. . . . . . 39 36 25 1S -— — 14 11 «- m\n",
      "Caldeireiro ...... .. ........ . . . . . 83 30 i 77 25 —- —— 6 5 - ~—\n",
      "Esmerilhador ................. 9 40 7 4O -— — I 2 -- ——- «u\n",
      "{Estampaéer .............. 55 25 55 as —— h — 1 — m\n",
      "De Ferreiro ....................... 120 15 118 M \"- —- 2 1 w m\n",
      "1‘? Fundidor ...................... 537 347 435 287 —— — 51 60 _— .—\n",
      "3 Funileiro ..................... 223 f 25 195 1‘3 - — 17 6 —- w\n",
      "xLimador ....................... 334 20 279 20 -- — 55 '— —~ --\n",
      "9C Modelador ..................... 62 32 56 22 -— ~—— 6 10 —- m-\n",
      "Agermmeim .................... 54? 153 fig 112 ~— — 71 41 m 3 .-\n",
      "Soldador ....................... 9’7 25 86 25 -—— — 11 — -- m\n",
      "g’l‘orneiro em metal ............ 168 46 149 46 -— -— 19 — —« m-\n",
      "1’!de\n",
      "Lapidador ..... . ............... 55 145 55 1 145 — —- — —- — m\n",
      "Vidreiro ....................... 397 384 305 243 ~- — 81 152 --- ——\n",
      "twggs e artefactes tie barre % g\n",
      "Ladrilheiro .................... 55 52 55 52 «.- q i — — 4— w\n",
      "Oleiro .......................... 304 79 104 79 ~— -— — --' m ——\n",
      "Prodmtas shimicos e pharma-\n",
      "centicos\n",
      "Empacotador .................. 290 40 37 - 177 40 1 21 -—- 55 ——\n",
      "Engarrafador on armlhador.. 4G 17 32 I 17 —- -— 'F — 1 ~-\n",
      "Lavador de vidms ............ 58 i 22 50 22 -— — — —— m m\n",
      "Manipulador .................. 138 22 75 22 59 — 4 -— - --\n",
      "Romladez‘ ...................... 88 E 61 10 - 65 61 6 w 6 m—\n",
      "Velas e 532339 I\n",
      "Empacotador de ve1a5. . . 48 34 11 w 4 5 33 23 -— 5\n",
      "Fundidox de veias ............ 56 37 56 3'? m _ H —- m M\n",
      "Prensador de mama.- .......... 1§ l 51 . 19 51 — ._ _ _ ._ ..\n",
      "Snboeim ............ . ........ .. 87 28 87 t 28 -— — — -— _. ..\n",
      "Bebidas .\n",
      "Eugarrafador cu arrolhaéor.. 356 i 192 385 I 186 — — 1 6 ‘ - ~—-— I\n",
      "Lavador de garrafas ..... 91 63 as 5% —- 9 3 — —- -\n"
     ]
    }
   ],
   "source": [
    "im = Image.open('image27.jpg')\n",
    "text = pytesseract.image_to_string(im, lang = 'eng')\n",
    "print(text)\n"
   ]
  },
  {
   "cell_type": "markdown",
   "metadata": {},
   "source": [
    "O resultado acima é a string 'pura'. Vamos agora limpar a string para que ela possa ser transformada em um dataframe.\n",
    "\n",
    "Começamos retirando o cabeçalho:"
   ]
  },
  {
   "cell_type": "code",
   "execution_count": 5,
   "metadata": {},
   "outputs": [
    {
     "name": "stdout",
     "output_type": "stream",
     "text": [
      "Acabador ...................... 613 364 385 303 208 44 J 10 '3 10 1‘1:\n",
      "Batedor ........................ 171 145 171 14a: 1 ~— __ _ 1 _. __\n",
      "Branqueador ................... 50 5’9 45 7G *- -— 5 3 -—- } ~—\n",
      "Cardador ...................... 285 173 241 155: 39 14 6 6 —— ~—\n",
      "Carreteleiro .................... E 855 S39 78 74. 730 437 37 9 18 19\n",
      "EngommadOr. . ................ 132 118 126 112? _ -— é — —- -—\n",
      "Fiandeiro ........ ‘ .............. 2.187 1.872 257 220 924 604 476 585 l 530 463 ‘\n",
      "Massaroqueim ................. 435 490 279 291 148 199 6 — 2 -—\n",
      "Meadeim. ..... . ..... , ........ 2m 78 11 1 :2 573? 51 — F - 96 --\n",
      "Remettedor .................... 331 182 131 119 21 — 166 63 13 m\n",
      "Tecelﬁo ........................ 64 632 2 .225 3 . 748 . 18% 2 . 60?. 989 90 7.4 192 28\n",
      "Tintureiro ..................... 553 21? * 518 31?. 1 1 <1 — z —- m\n",
      "Urdidor ........................ 274 152 143 62 105 73 26 12 l —, .—\n",
      "Madeiras s\n",
      "Serrador ....................... 133 i 85 152 85 — — —— — -— -\n",
      "Torneim em madeira ......... 39 i 24 39 24 | ~— — — — ‘ —— m\n",
      "Metallurgia I\n",
      "Ajustador ................. . . . . . 39 36 25 1S -— — 14 11 «- m\n",
      "Caldeireiro ...... .. ........ . . . . . 83 30 i 77 25 —- —— 6 5 - ~—\n",
      "Esmerilhador ................. 9 40 7 4O -— — I 2 -- ——- «u\n",
      "{Estampaéer .............. 55 25 55 as —— h — 1 — m\n",
      "De Ferreiro ....................... 120 15 118 M \"- —- 2 1 w m\n",
      "1‘? Fundidor ...................... 537 347 435 287 —— — 51 60 _— .—\n",
      "3 Funileiro ..................... 223 f 25 195 1‘3 - — 17 6 —- w\n",
      "xLimador ....................... 334 20 279 20 -- — 55 '— —~ --\n",
      "9C Modelador ..................... 62 32 56 22 -— ~—— 6 10 —- m-\n",
      "Agermmeim .................... 54? 153 fig 112 ~— — 71 41 m 3 .-\n",
      "Soldador ....................... 9’7 25 86 25 -—— — 11 — -- m\n",
      "g’l‘orneiro em metal ............ 168 46 149 46 -— -— 19 — —« m-\n",
      "1’!de\n",
      "Lapidador ..... . ............... 55 145 55 1 145 — —- — —- — m\n",
      "Vidreiro ....................... 397 384 305 243 ~- — 81 152 --- ——\n",
      "twggs e artefactes tie barre % g\n",
      "Ladrilheiro .................... 55 52 55 52 «.- q i — — 4— w\n",
      "Oleiro .......................... 304 79 104 79 ~— -— — --' m ——\n",
      "Prodmtas shimicos e pharma-\n",
      "centicos\n",
      "Empacotador .................. 290 40 37 - 177 40 1 21 -—- 55 ——\n",
      "Engarrafador on armlhador.. 4G 17 32 I 17 —- -— 'F — 1 ~-\n",
      "Lavador de vidms ............ 58 i 22 50 22 -— — — —— m m\n",
      "Manipulador .................. 138 22 75 22 59 — 4 -— - --\n",
      "Romladez‘ ...................... 88 E 61 10 - 65 61 6 w 6 m—\n",
      "Velas e 532339 I\n",
      "Empacotador de ve1a5. . . 48 34 11 w 4 5 33 23 -— 5\n",
      "Fundidox de veias ............ 56 37 56 3'? m _ H —- m M\n",
      "Prensador de mama.- .......... 1§ l 51 . 19 51 — ._ _ _ ._ ..\n",
      "Snboeim ............ . ........ .. 87 28 87 t 28 -— — — -— _. ..\n",
      "Bebidas .\n",
      "Eugarrafador cu arrolhaéor.. 356 i 192 385 I 186 — — 1 6 ‘ - ~—-— I\n",
      "Lavador de garrafas ..... 91 63 as 5% —- 9 3 — —- -\n"
     ]
    }
   ],
   "source": [
    "text = text.split(\"\\n\",9)[-1]\n",
    "print(text)"
   ]
  },
  {
   "cell_type": "markdown",
   "metadata": {},
   "source": [
    "Agora utilizamos *regular expressions* para selecionar as linhas que tem o 'perfil' do arquivo"
   ]
  },
  {
   "cell_type": "code",
   "execution_count": 6,
   "metadata": {},
   "outputs": [
    {
     "data": {
      "text/plain": [
       "'Acabador ...................... 613 364 385 303 208 44 J 10 '"
      ]
     },
     "execution_count": 6,
     "metadata": {},
     "output_type": "execute_result"
    }
   ],
   "source": [
    "pattern = re.compile(r'[A-z]+\\s\\.+\\s[\\w\\s]*')\n",
    "one = pattern.search(text)\n",
    "one.group()"
   ]
  },
  {
   "cell_type": "markdown",
   "metadata": {},
   "source": [
    "Generalizando a expressão para todas as linhas:"
   ]
  },
  {
   "cell_type": "code",
   "execution_count": 7,
   "metadata": {},
   "outputs": [
    {
     "data": {
      "text/plain": [
       "['Acabador ...................... 613 364 385 303 208 44 J 10 ',\n",
       " 'Batedor ........................ 171 145 171 14a',\n",
       " 'Branqueador ................... 50 5',\n",
       " 'Cardador ...................... 285 173 241 155',\n",
       " 'Carreteleiro .................... E 855 S39 78 74',\n",
       " 'Fiandeiro ........ ',\n",
       " 'Massaroqueim ................. 435 490 279 291 148 199 6 ',\n",
       " 'Remettedor .................... 331 182 131 119 21 ',\n",
       " 'o ........................ 64 632 2 ',\n",
       " 'Tintureiro ..................... 553 21',\n",
       " 'Urdidor ........................ 274 152 143 62 105 73 26 12 l ',\n",
       " 'Serrador ....................... 133 i 85 152 85 ',\n",
       " 'madeira ......... 39 i 24 39 24 ',\n",
       " 'Ajustador ................. ',\n",
       " 'Caldeireiro ...... ',\n",
       " 'Esmerilhador ................. 9 40 7 4O ',\n",
       " 'er .............. 55 25 55 as ',\n",
       " 'Ferreiro ....................... 120 15 118 M ',\n",
       " 'Fundidor ...................... 537 347 435 287 ',\n",
       " 'Funileiro ..................... 223 f 25 195 1',\n",
       " 'xLimador ....................... 334 20 279 20 ',\n",
       " 'Modelador ..................... 62 32 56 22 ',\n",
       " 'Agermmeim .................... 54',\n",
       " 'Soldador ....................... 9',\n",
       " 'metal ............ 168 46 149 46 ',\n",
       " 'Lapidador ..... ',\n",
       " 'Vidreiro ....................... 397 384 305 243 ',\n",
       " 'Ladrilheiro .................... 55 52 55 52 ',\n",
       " 'Oleiro .......................... 304 79 104 79 ',\n",
       " 'Empacotador .................. 290 40 37 ',\n",
       " 'vidms ............ 58 i 22 50 22 ',\n",
       " 'Manipulador .................. 138 22 75 22 59 ',\n",
       " 'veias ............ 56 37 56 3',\n",
       " '_ ..\\nSnboeim ',\n",
       " 'Bebidas .\\nEugarrafador cu arrolhaéor',\n",
       " 'garrafas ..... 91 63 as 5']"
      ]
     },
     "execution_count": 7,
     "metadata": {},
     "output_type": "execute_result"
    }
   ],
   "source": [
    "f = pattern.findall(text)\n",
    "f"
   ]
  },
  {
   "cell_type": "markdown",
   "metadata": {},
   "source": [
    "O output do método findall é uma lista. A seguir transformamos essa lista em uma string para dar continuidade a impeza"
   ]
  },
  {
   "cell_type": "code",
   "execution_count": 8,
   "metadata": {},
   "outputs": [
    {
     "data": {
      "text/plain": [
       "\"['Acabador ...................... 613 364 385 303 208 44 J 10 ', 'Batedor ........................ 171 145 171 14a', 'Branqueador ................... 50 5', 'Cardador ...................... 285 173 241 155', 'Carreteleiro .................... E 855 S39 78 74', 'Fiandeiro ........ ', 'Massaroqueim ................. 435 490 279 291 148 199 6 ', 'Remettedor .................... 331 182 131 119 21 ', 'o ........................ 64 632 2 ', 'Tintureiro ..................... 553 21', 'Urdidor ........................ 274 152 143 62 105 73 26 12 l ', 'Serrador ....................... 133 i 85 152 85 ', 'madeira ......... 39 i 24 39 24 ', 'Ajustador ................. ', 'Caldeireiro ...... ', 'Esmerilhador ................. 9 40 7 4O ', 'er .............. 55 25 55 as ', 'Ferreiro ....................... 120 15 118 M ', 'Fundidor ...................... 537 347 435 287 ', 'Funileiro ..................... 223 f 25 195 1', 'xLimador ....................... 334 20 279 20 ', 'Modelador ..................... 62 32 56 22 ', 'Agermmeim .................... 54', 'Soldador ....................... 9', 'metal ............ 168 46 149 46 ', 'Lapidador ..... ', 'Vidreiro ....................... 397 384 305 243 ', 'Ladrilheiro .................... 55 52 55 52 ', 'Oleiro .......................... 304 79 104 79 ', 'Empacotador .................. 290 40 37 ', 'vidms ............ 58 i 22 50 22 ', 'Manipulador .................. 138 22 75 22 59 ', 'veias ............ 56 37 56 3', '_ ..\\\\nSnboeim ', 'Bebidas .\\\\nEugarrafador cu arrolhaéor', 'garrafas ..... 91 63 as 5']\""
      ]
     },
     "execution_count": 8,
     "metadata": {},
     "output_type": "execute_result"
    }
   ],
   "source": [
    "g =str(f)\n",
    "g"
   ]
  },
  {
   "cell_type": "markdown",
   "metadata": {},
   "source": [
    "Substituindo caracteres:"
   ]
  },
  {
   "cell_type": "code",
   "execution_count": 9,
   "metadata": {},
   "outputs": [],
   "source": [
    "g =g.replace('.','')\n",
    "g =g.replace(' ',';')\n",
    "g =g.replace(',','\\n')\n",
    "g =g.replace(';;', ';')\n",
    "g =g.replace('\\n;', '\\n')"
   ]
  },
  {
   "cell_type": "markdown",
   "metadata": {},
   "source": [
    "Podemos ver agora que a string já está em um formato passível de ser lido como dataframe:"
   ]
  },
  {
   "cell_type": "code",
   "execution_count": 10,
   "metadata": {},
   "outputs": [
    {
     "data": {
      "text/plain": [
       "\"['Acabador;613;364;385;303;208;44;J;10;'\\n'Batedor;171;145;171;14a'\\n'Branqueador;50;5'\\n'Cardador;285;173;241;155'\\n'Carreteleiro;E;855;S39;78;74'\\n'Fiandeiro;'\\n'Massaroqueim;435;490;279;291;148;199;6;'\\n'Remettedor;331;182;131;119;21;'\\n'o;64;632;2;'\\n'Tintureiro;553;21'\\n'Urdidor;274;152;143;62;105;73;26;12;l;'\\n'Serrador;133;i;85;152;85;'\\n'madeira;39;i;24;39;24;'\\n'Ajustador;'\\n'Caldeireiro;'\\n'Esmerilhador;9;40;7;4O;'\\n'er;55;25;55;as;'\\n'Ferreiro;120;15;118;M;'\\n'Fundidor;537;347;435;287;'\\n'Funileiro;223;f;25;195;1'\\n'xLimador;334;20;279;20;'\\n'Modelador;62;32;56;22;'\\n'Agermmeim;54'\\n'Soldador;9'\\n'metal;168;46;149;46;'\\n'Lapidador;'\\n'Vidreiro;397;384;305;243;'\\n'Ladrilheiro;55;52;55;52;'\\n'Oleiro;304;79;104;79;'\\n'Empacotador;290;40;37;'\\n'vidms;58;i;22;50;22;'\\n'Manipulador;138;22;75;22;59;'\\n'veias;56;37;56;3'\\n'_;\\\\nSnboeim;'\\n'Bebidas;\\\\nEugarrafador;cu;arrolhaéor'\\n'garrafas;91;63;as;5']\""
      ]
     },
     "execution_count": 10,
     "metadata": {},
     "output_type": "execute_result"
    }
   ],
   "source": [
    "g"
   ]
  },
  {
   "cell_type": "markdown",
   "metadata": {},
   "source": [
    "Salvando a string em format csv"
   ]
  },
  {
   "cell_type": "code",
   "execution_count": 11,
   "metadata": {},
   "outputs": [],
   "source": [
    "h = open('csvfile.csv','w')\n",
    "h.write(g)\n",
    "h.close()"
   ]
  },
  {
   "cell_type": "markdown",
   "metadata": {},
   "source": [
    "No comando abaixo abrimos o arquivo de csv que acabamos de salvar."
   ]
  },
  {
   "cell_type": "code",
   "execution_count": 12,
   "metadata": {},
   "outputs": [
    {
     "name": "stdout",
     "output_type": "stream",
     "text": [
      "                a               b    c            d     e    f    g    h    i  \\\n",
      "0      ['Acabador             613  364          385   303  208   44    J   10   \n",
      "1        'Batedor             171  145          171  14a'  NaN  NaN  NaN  NaN   \n",
      "2    'Branqueador              50   5'          NaN   NaN  NaN  NaN  NaN  NaN   \n",
      "3       'Cardador             285  173          241  155'  NaN  NaN  NaN  NaN   \n",
      "4   'Carreteleiro               E  855          S39    78  74'  NaN  NaN  NaN   \n",
      "5      'Fiandeiro               '  NaN          NaN   NaN  NaN  NaN  NaN  NaN   \n",
      "6   'Massaroqueim             435  490          279   291  148  199    6    '   \n",
      "7     'Remettedor             331  182          131   119   21    '  NaN  NaN   \n",
      "8              'o              64  632            2     '  NaN  NaN  NaN  NaN   \n",
      "9     'Tintureiro             553  21'          NaN   NaN  NaN  NaN  NaN  NaN   \n",
      "10       'Urdidor             274  152          143    62  105   73   26   12   \n",
      "11      'Serrador             133    i           85   152   85    '  NaN  NaN   \n",
      "12       'madeira              39    i           24    39   24    '  NaN  NaN   \n",
      "13     'Ajustador               '  NaN          NaN   NaN  NaN  NaN  NaN  NaN   \n",
      "14   'Caldeireiro               '  NaN          NaN   NaN  NaN  NaN  NaN  NaN   \n",
      "15  'Esmerilhador               9   40            7    4O    '  NaN  NaN  NaN   \n",
      "16            'er              55   25           55    as    '  NaN  NaN  NaN   \n",
      "17      'Ferreiro             120   15          118     M    '  NaN  NaN  NaN   \n",
      "18      'Fundidor             537  347          435   287    '  NaN  NaN  NaN   \n",
      "19     'Funileiro             223    f           25   195   1'  NaN  NaN  NaN   \n",
      "20      'xLimador             334   20          279    20    '  NaN  NaN  NaN   \n",
      "21     'Modelador              62   32           56    22    '  NaN  NaN  NaN   \n",
      "22     'Agermmeim             54'  NaN          NaN   NaN  NaN  NaN  NaN  NaN   \n",
      "23      'Soldador              9'  NaN          NaN   NaN  NaN  NaN  NaN  NaN   \n",
      "24         'metal             168   46          149    46    '  NaN  NaN  NaN   \n",
      "25     'Lapidador               '  NaN          NaN   NaN  NaN  NaN  NaN  NaN   \n",
      "26      'Vidreiro             397  384          305   243    '  NaN  NaN  NaN   \n",
      "27   'Ladrilheiro              55   52           55    52    '  NaN  NaN  NaN   \n",
      "28        'Oleiro             304   79          104    79    '  NaN  NaN  NaN   \n",
      "29   'Empacotador             290   40           37     '  NaN  NaN  NaN  NaN   \n",
      "30         'vidms              58    i           22    50   22    '  NaN  NaN   \n",
      "31   'Manipulador             138   22           75    22   59    '  NaN  NaN   \n",
      "32         'veias              56   37           56    3'  NaN  NaN  NaN  NaN   \n",
      "33             '_       \\nSnboeim    '          NaN   NaN  NaN  NaN  NaN  NaN   \n",
      "34       'Bebidas  \\nEugarrafador   cu  arrolhaéor'   NaN  NaN  NaN  NaN  NaN   \n",
      "35      'garrafas              91   63           as   5']  NaN  NaN  NaN  NaN   \n",
      "\n",
      "      j    k  \n",
      "0     '  NaN  \n",
      "1   NaN  NaN  \n",
      "2   NaN  NaN  \n",
      "3   NaN  NaN  \n",
      "4   NaN  NaN  \n",
      "5   NaN  NaN  \n",
      "6   NaN  NaN  \n",
      "7   NaN  NaN  \n",
      "8   NaN  NaN  \n",
      "9   NaN  NaN  \n",
      "10    l    '  \n",
      "11  NaN  NaN  \n",
      "12  NaN  NaN  \n",
      "13  NaN  NaN  \n",
      "14  NaN  NaN  \n",
      "15  NaN  NaN  \n",
      "16  NaN  NaN  \n",
      "17  NaN  NaN  \n",
      "18  NaN  NaN  \n",
      "19  NaN  NaN  \n",
      "20  NaN  NaN  \n",
      "21  NaN  NaN  \n",
      "22  NaN  NaN  \n",
      "23  NaN  NaN  \n",
      "24  NaN  NaN  \n",
      "25  NaN  NaN  \n",
      "26  NaN  NaN  \n",
      "27  NaN  NaN  \n",
      "28  NaN  NaN  \n",
      "29  NaN  NaN  \n",
      "30  NaN  NaN  \n",
      "31  NaN  NaN  \n",
      "32  NaN  NaN  \n",
      "33  NaN  NaN  \n",
      "34  NaN  NaN  \n",
      "35  NaN  NaN  \n"
     ]
    }
   ],
   "source": [
    "df = pd.read_csv('csvfile.csv', sep= ';', names = 'abcdefghijk', header = None, index_col = False,\n",
    "                 quoting=csv.QUOTE_NONE)\n",
    "print(df)\n"
   ]
  },
  {
   "cell_type": "markdown",
   "metadata": {},
   "source": [
    "Criamos agora um dataframe apenas com os valores numéricos das colunas de dados"
   ]
  },
  {
   "cell_type": "code",
   "execution_count": 13,
   "metadata": {},
   "outputs": [
    {
     "name": "stdout",
     "output_type": "stream",
     "text": [
      "       b      c      d      e      f     g   h     i   j   k\n",
      "0  613.0  364.0  385.0  303.0  208.0  44.0 NaN  10.0 NaN NaN\n",
      "1  171.0  145.0  171.0    NaN    NaN   NaN NaN   NaN NaN NaN\n",
      "2   50.0    NaN    NaN    NaN    NaN   NaN NaN   NaN NaN NaN\n",
      "3  285.0  173.0  241.0    NaN    NaN   NaN NaN   NaN NaN NaN\n",
      "4    NaN  855.0    NaN   78.0    NaN   NaN NaN   NaN NaN NaN\n"
     ]
    }
   ],
   "source": [
    "df1 = df.iloc[:,1:11].apply(pd.to_numeric, errors='coerce')\n",
    "print(df1.head())"
   ]
  },
  {
   "cell_type": "markdown",
   "metadata": {},
   "source": [
    "Concatenando o nome das linhas com os valores:"
   ]
  },
  {
   "cell_type": "code",
   "execution_count": 14,
   "metadata": {},
   "outputs": [
    {
     "name": "stdout",
     "output_type": "stream",
     "text": [
      "                a      b      c      d      e      f      g     h     i   j  \\\n",
      "0      ['Acabador  613.0  364.0  385.0  303.0  208.0   44.0   NaN  10.0 NaN   \n",
      "1        'Batedor  171.0  145.0  171.0    NaN    NaN    NaN   NaN   NaN NaN   \n",
      "2    'Branqueador   50.0    NaN    NaN    NaN    NaN    NaN   NaN   NaN NaN   \n",
      "3       'Cardador  285.0  173.0  241.0    NaN    NaN    NaN   NaN   NaN NaN   \n",
      "4   'Carreteleiro    NaN  855.0    NaN   78.0    NaN    NaN   NaN   NaN NaN   \n",
      "5      'Fiandeiro    NaN    NaN    NaN    NaN    NaN    NaN   NaN   NaN NaN   \n",
      "6   'Massaroqueim  435.0  490.0  279.0  291.0  148.0  199.0   6.0   NaN NaN   \n",
      "7     'Remettedor  331.0  182.0  131.0  119.0   21.0    NaN   NaN   NaN NaN   \n",
      "8              'o   64.0  632.0    2.0    NaN    NaN    NaN   NaN   NaN NaN   \n",
      "9     'Tintureiro  553.0    NaN    NaN    NaN    NaN    NaN   NaN   NaN NaN   \n",
      "10       'Urdidor  274.0  152.0  143.0   62.0  105.0   73.0  26.0  12.0 NaN   \n",
      "11      'Serrador  133.0    NaN   85.0  152.0   85.0    NaN   NaN   NaN NaN   \n",
      "12       'madeira   39.0    NaN   24.0   39.0   24.0    NaN   NaN   NaN NaN   \n",
      "13     'Ajustador    NaN    NaN    NaN    NaN    NaN    NaN   NaN   NaN NaN   \n",
      "14   'Caldeireiro    NaN    NaN    NaN    NaN    NaN    NaN   NaN   NaN NaN   \n",
      "15  'Esmerilhador    9.0   40.0    7.0    NaN    NaN    NaN   NaN   NaN NaN   \n",
      "16            'er   55.0   25.0   55.0    NaN    NaN    NaN   NaN   NaN NaN   \n",
      "17      'Ferreiro  120.0   15.0  118.0    NaN    NaN    NaN   NaN   NaN NaN   \n",
      "18      'Fundidor  537.0  347.0  435.0  287.0    NaN    NaN   NaN   NaN NaN   \n",
      "19     'Funileiro  223.0    NaN   25.0  195.0    NaN    NaN   NaN   NaN NaN   \n",
      "20      'xLimador  334.0   20.0  279.0   20.0    NaN    NaN   NaN   NaN NaN   \n",
      "21     'Modelador   62.0   32.0   56.0   22.0    NaN    NaN   NaN   NaN NaN   \n",
      "22     'Agermmeim    NaN    NaN    NaN    NaN    NaN    NaN   NaN   NaN NaN   \n",
      "23      'Soldador    NaN    NaN    NaN    NaN    NaN    NaN   NaN   NaN NaN   \n",
      "24         'metal  168.0   46.0  149.0   46.0    NaN    NaN   NaN   NaN NaN   \n",
      "25     'Lapidador    NaN    NaN    NaN    NaN    NaN    NaN   NaN   NaN NaN   \n",
      "26      'Vidreiro  397.0  384.0  305.0  243.0    NaN    NaN   NaN   NaN NaN   \n",
      "27   'Ladrilheiro   55.0   52.0   55.0   52.0    NaN    NaN   NaN   NaN NaN   \n",
      "28        'Oleiro  304.0   79.0  104.0   79.0    NaN    NaN   NaN   NaN NaN   \n",
      "29   'Empacotador  290.0   40.0   37.0    NaN    NaN    NaN   NaN   NaN NaN   \n",
      "30         'vidms   58.0    NaN   22.0   50.0   22.0    NaN   NaN   NaN NaN   \n",
      "31   'Manipulador  138.0   22.0   75.0   22.0   59.0    NaN   NaN   NaN NaN   \n",
      "32         'veias   56.0   37.0   56.0    NaN    NaN    NaN   NaN   NaN NaN   \n",
      "33             '_    NaN    NaN    NaN    NaN    NaN    NaN   NaN   NaN NaN   \n",
      "34       'Bebidas    NaN    NaN    NaN    NaN    NaN    NaN   NaN   NaN NaN   \n",
      "35      'garrafas   91.0   63.0    NaN    NaN    NaN    NaN   NaN   NaN NaN   \n",
      "\n",
      "     k  \n",
      "0  NaN  \n",
      "1  NaN  \n",
      "2  NaN  \n",
      "3  NaN  \n",
      "4  NaN  \n",
      "5  NaN  \n",
      "6  NaN  \n",
      "7  NaN  \n",
      "8  NaN  \n",
      "9  NaN  \n",
      "10 NaN  \n",
      "11 NaN  \n",
      "12 NaN  \n",
      "13 NaN  \n",
      "14 NaN  \n",
      "15 NaN  \n",
      "16 NaN  \n",
      "17 NaN  \n",
      "18 NaN  \n",
      "19 NaN  \n",
      "20 NaN  \n",
      "21 NaN  \n",
      "22 NaN  \n",
      "23 NaN  \n",
      "24 NaN  \n",
      "25 NaN  \n",
      "26 NaN  \n",
      "27 NaN  \n",
      "28 NaN  \n",
      "29 NaN  \n",
      "30 NaN  \n",
      "31 NaN  \n",
      "32 NaN  \n",
      "33 NaN  \n",
      "34 NaN  \n",
      "35 NaN  \n"
     ]
    }
   ],
   "source": [
    "df_new = pd.concat([df['a'], df1], axis=1)\n",
    "print(df_new)"
   ]
  },
  {
   "cell_type": "markdown",
   "metadata": {},
   "source": [
    "Por fim, colocamos nomes nas colunas e geramos o dataframe completo."
   ]
  },
  {
   "cell_type": "code",
   "execution_count": 15,
   "metadata": {},
   "outputs": [],
   "source": [
    "cols = ['Profissão', '1920', '1928', '20_A_H', '28_A_H','20_A_M', '28_A_M', '20_M_H', '28_M_H','20_M_M', '28_M_M']"
   ]
  },
  {
   "cell_type": "code",
   "execution_count": 16,
   "metadata": {},
   "outputs": [
    {
     "name": "stdout",
     "output_type": "stream",
     "text": [
      "        Profissão   1920   1928  20_A_H  28_A_H  20_A_M  28_A_M  20_M_H  \\\n",
      "0      ['Acabador  613.0  364.0   385.0   303.0   208.0    44.0     NaN   \n",
      "1        'Batedor  171.0  145.0   171.0     NaN     NaN     NaN     NaN   \n",
      "2    'Branqueador   50.0    NaN     NaN     NaN     NaN     NaN     NaN   \n",
      "3       'Cardador  285.0  173.0   241.0     NaN     NaN     NaN     NaN   \n",
      "4   'Carreteleiro    NaN  855.0     NaN    78.0     NaN     NaN     NaN   \n",
      "5      'Fiandeiro    NaN    NaN     NaN     NaN     NaN     NaN     NaN   \n",
      "6   'Massaroqueim  435.0  490.0   279.0   291.0   148.0   199.0     6.0   \n",
      "7     'Remettedor  331.0  182.0   131.0   119.0    21.0     NaN     NaN   \n",
      "8              'o   64.0  632.0     2.0     NaN     NaN     NaN     NaN   \n",
      "9     'Tintureiro  553.0    NaN     NaN     NaN     NaN     NaN     NaN   \n",
      "10       'Urdidor  274.0  152.0   143.0    62.0   105.0    73.0    26.0   \n",
      "11      'Serrador  133.0    NaN    85.0   152.0    85.0     NaN     NaN   \n",
      "12       'madeira   39.0    NaN    24.0    39.0    24.0     NaN     NaN   \n",
      "13     'Ajustador    NaN    NaN     NaN     NaN     NaN     NaN     NaN   \n",
      "14   'Caldeireiro    NaN    NaN     NaN     NaN     NaN     NaN     NaN   \n",
      "15  'Esmerilhador    9.0   40.0     7.0     NaN     NaN     NaN     NaN   \n",
      "16            'er   55.0   25.0    55.0     NaN     NaN     NaN     NaN   \n",
      "17      'Ferreiro  120.0   15.0   118.0     NaN     NaN     NaN     NaN   \n",
      "18      'Fundidor  537.0  347.0   435.0   287.0     NaN     NaN     NaN   \n",
      "19     'Funileiro  223.0    NaN    25.0   195.0     NaN     NaN     NaN   \n",
      "20      'xLimador  334.0   20.0   279.0    20.0     NaN     NaN     NaN   \n",
      "21     'Modelador   62.0   32.0    56.0    22.0     NaN     NaN     NaN   \n",
      "22     'Agermmeim    NaN    NaN     NaN     NaN     NaN     NaN     NaN   \n",
      "23      'Soldador    NaN    NaN     NaN     NaN     NaN     NaN     NaN   \n",
      "24         'metal  168.0   46.0   149.0    46.0     NaN     NaN     NaN   \n",
      "25     'Lapidador    NaN    NaN     NaN     NaN     NaN     NaN     NaN   \n",
      "26      'Vidreiro  397.0  384.0   305.0   243.0     NaN     NaN     NaN   \n",
      "27   'Ladrilheiro   55.0   52.0    55.0    52.0     NaN     NaN     NaN   \n",
      "28        'Oleiro  304.0   79.0   104.0    79.0     NaN     NaN     NaN   \n",
      "29   'Empacotador  290.0   40.0    37.0     NaN     NaN     NaN     NaN   \n",
      "30         'vidms   58.0    NaN    22.0    50.0    22.0     NaN     NaN   \n",
      "31   'Manipulador  138.0   22.0    75.0    22.0    59.0     NaN     NaN   \n",
      "32         'veias   56.0   37.0    56.0     NaN     NaN     NaN     NaN   \n",
      "33             '_    NaN    NaN     NaN     NaN     NaN     NaN     NaN   \n",
      "34       'Bebidas    NaN    NaN     NaN     NaN     NaN     NaN     NaN   \n",
      "35      'garrafas   91.0   63.0     NaN     NaN     NaN     NaN     NaN   \n",
      "\n",
      "    28_M_H  20_M_M  28_M_M  \n",
      "0     10.0     NaN     NaN  \n",
      "1      NaN     NaN     NaN  \n",
      "2      NaN     NaN     NaN  \n",
      "3      NaN     NaN     NaN  \n",
      "4      NaN     NaN     NaN  \n",
      "5      NaN     NaN     NaN  \n",
      "6      NaN     NaN     NaN  \n",
      "7      NaN     NaN     NaN  \n",
      "8      NaN     NaN     NaN  \n",
      "9      NaN     NaN     NaN  \n",
      "10    12.0     NaN     NaN  \n",
      "11     NaN     NaN     NaN  \n",
      "12     NaN     NaN     NaN  \n",
      "13     NaN     NaN     NaN  \n",
      "14     NaN     NaN     NaN  \n",
      "15     NaN     NaN     NaN  \n",
      "16     NaN     NaN     NaN  \n",
      "17     NaN     NaN     NaN  \n",
      "18     NaN     NaN     NaN  \n",
      "19     NaN     NaN     NaN  \n",
      "20     NaN     NaN     NaN  \n",
      "21     NaN     NaN     NaN  \n",
      "22     NaN     NaN     NaN  \n",
      "23     NaN     NaN     NaN  \n",
      "24     NaN     NaN     NaN  \n",
      "25     NaN     NaN     NaN  \n",
      "26     NaN     NaN     NaN  \n",
      "27     NaN     NaN     NaN  \n",
      "28     NaN     NaN     NaN  \n",
      "29     NaN     NaN     NaN  \n",
      "30     NaN     NaN     NaN  \n",
      "31     NaN     NaN     NaN  \n",
      "32     NaN     NaN     NaN  \n",
      "33     NaN     NaN     NaN  \n",
      "34     NaN     NaN     NaN  \n",
      "35     NaN     NaN     NaN  \n"
     ]
    }
   ],
   "source": [
    "df_new.columns = cols\n",
    "print(df_new)"
   ]
  },
  {
   "cell_type": "markdown",
   "metadata": {},
   "source": [
    "Se abrirmos o arquivo original veremos que alguns dados que aparecem nele não estão disponíveis nesse dataframe final. Isso acontece por que o Python não consegue identificar todos os números. Obviamente, poderíamos melhorar a resolução da captura da imagem, mas é improvável que isso reduza a zero o volume de erros já que alguns números são difíceis de se observar mesmo a olho nu."
   ]
  }
 ],
 "metadata": {
  "kernelspec": {
   "display_name": "Python 3",
   "language": "python",
   "name": "python3"
  },
  "language_info": {
   "codemirror_mode": {
    "name": "ipython",
    "version": 3
   },
   "file_extension": ".py",
   "mimetype": "text/x-python",
   "name": "python",
   "nbconvert_exporter": "python",
   "pygments_lexer": "ipython3",
   "version": "3.7.6"
  }
 },
 "nbformat": 4,
 "nbformat_minor": 2
}
